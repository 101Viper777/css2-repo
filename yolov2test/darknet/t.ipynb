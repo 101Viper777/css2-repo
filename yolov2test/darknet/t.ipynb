{
 "cells": [
  {
   "cell_type": "code",
   "execution_count": 1,
   "metadata": {},
   "outputs": [],
   "source": [
    "import os\n",
    "\n",
    "# Directory paths\n",
    "train_dir = \"data/test\"\n",
    "val_dir = \"data/test\"\n",
    "\n",
    "# Create train.txt\n",
    "with open(\"train.txt\", \"w\") as f:\n",
    "    for filename in os.listdir(train_dir):\n",
    "        if filename.endswith(\".jpg\"):\n",
    "            f.write(os.path.join(train_dir, filename) + \"\\n\")\n",
    "\n",
    "# Create val.txt\n",
    "with open(\"val.txt\", \"w\") as f:\n",
    "    for filename in os.listdir(val_dir):\n",
    "        if filename.endswith(\".jpg\"):\n",
    "            f.write(os.path.join(val_dir, filename) + \"\\n\")"
   ]
  }
 ],
 "metadata": {
  "kernelspec": {
   "display_name": "env",
   "language": "python",
   "name": "python3"
  },
  "language_info": {
   "codemirror_mode": {
    "name": "ipython",
    "version": 3
   },
   "file_extension": ".py",
   "mimetype": "text/x-python",
   "name": "python",
   "nbconvert_exporter": "python",
   "pygments_lexer": "ipython3",
   "version": "3.11.6"
  }
 },
 "nbformat": 4,
 "nbformat_minor": 2
}
